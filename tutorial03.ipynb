{
  "nbformat": 4,
  "nbformat_minor": 0,
  "metadata": {
    "colab": {
      "provenance": [],
      "authorship_tag": "ABX9TyOyR0ggaYa6543Fngrr9Ei8",
      "include_colab_link": true
    },
    "kernelspec": {
      "name": "python3",
      "display_name": "Python 3"
    },
    "language_info": {
      "name": "python"
    }
  },
  "cells": [
    {
      "cell_type": "markdown",
      "metadata": {
        "id": "view-in-github",
        "colab_type": "text"
      },
      "source": [
        "<a href=\"https://colab.research.google.com/github/ZIXIANG2025/Tutorial_03/blob/Tutorial/tutorial03.ipynb\" target=\"_parent\"><img src=\"https://colab.research.google.com/assets/colab-badge.svg\" alt=\"Open In Colab\"/></a>"
      ]
    },
    {
      "cell_type": "code",
      "source": [
        "import numpy as np\n",
        "array=np.array([[1,2],[3,4]])\n",
        "print(array)"
      ],
      "metadata": {
        "colab": {
          "base_uri": "https://localhost:8080/"
        },
        "id": "t0SHOfv88AYt",
        "outputId": "eedd3bce-801c-439c-d3c6-5793626782ac"
      },
      "execution_count": null,
      "outputs": [
        {
          "output_type": "stream",
          "name": "stdout",
          "text": [
            "[[1 2]\n",
            " [3 4]]\n"
          ]
        }
      ]
    },
    {
      "cell_type": "code",
      "source": [
        "import numpy as np\n",
        "array=np.random.random((3,4))\n",
        "print(array)\n"
      ],
      "metadata": {
        "colab": {
          "base_uri": "https://localhost:8080/"
        },
        "id": "1R6MGWzA8CAe",
        "outputId": "42aad57b-7670-445e-e1fd-6b2606b708c0"
      },
      "execution_count": null,
      "outputs": [
        {
          "output_type": "stream",
          "name": "stdout",
          "text": [
            "[[0.52304698 0.52226939 0.73307954 0.0967458 ]\n",
            " [0.25776947 0.7551946  0.28831319 0.06601093]\n",
            " [0.80155968 0.30620523 0.13632385 0.04578331]]\n"
          ]
        }
      ]
    },
    {
      "cell_type": "code",
      "source": [
        "import numpy as np\n",
        "array1=np.ones((2,2))\n",
        "array2=np.zeros((2,2))\n",
        "print(array1)\n",
        "print(array2)"
      ],
      "metadata": {
        "colab": {
          "base_uri": "https://localhost:8080/"
        },
        "id": "7QOhJ7Wz8COs",
        "outputId": "b79ae8c4-d56d-4b4f-d378-0243bd87f91a"
      },
      "execution_count": null,
      "outputs": [
        {
          "output_type": "stream",
          "name": "stdout",
          "text": [
            "[[1. 1.]\n",
            " [1. 1.]]\n",
            "[[0. 0.]\n",
            " [0. 0.]]\n"
          ]
        }
      ]
    },
    {
      "cell_type": "code",
      "source": [
        "import numpy as np\n",
        "array=np.random.random((6,3))\n",
        "print(array)\n",
        "print(np.transpose(array))\n",
        "#print(array.T)"
      ],
      "metadata": {
        "colab": {
          "base_uri": "https://localhost:8080/"
        },
        "id": "P1M3RFMh8Tt-",
        "outputId": "df8f918f-cd75-4b89-e1e6-0e9a438566ca"
      },
      "execution_count": null,
      "outputs": [
        {
          "output_type": "stream",
          "name": "stdout",
          "text": [
            "[[0.67577624 0.59268814 0.26319121]\n",
            " [0.69396264 0.57368871 0.00944738]\n",
            " [0.7978737  0.22409348 0.00668566]\n",
            " [0.85423126 0.09636934 0.82720088]\n",
            " [0.62915697 0.60168317 0.09290402]\n",
            " [0.44446428 0.97880622 0.1193605 ]]\n",
            "[[0.67577624 0.69396264 0.7978737  0.85423126 0.62915697 0.44446428]\n",
            " [0.59268814 0.57368871 0.22409348 0.09636934 0.60168317 0.97880622]\n",
            " [0.26319121 0.00944738 0.00668566 0.82720088 0.09290402 0.1193605 ]]\n"
          ]
        }
      ]
    },
    {
      "cell_type": "code",
      "source": [
        "import numpy as np\n",
        "array1=np.array([[1,2],[3,4]])\n",
        "array2=np.array([[5,6,7],[8,9,10],])\n",
        "dot=np.dot(array1,array2)\n",
        "#dot=array1@array2\n",
        "print(dot)\n"
      ],
      "metadata": {
        "colab": {
          "base_uri": "https://localhost:8080/"
        },
        "id": "HWOhnFXl96gl",
        "outputId": "b4a5219c-4648-4ef2-9a70-e5615b95084f"
      },
      "execution_count": 5,
      "outputs": [
        {
          "output_type": "stream",
          "name": "stdout",
          "text": [
            "[[21 24 27]\n",
            " [47 54 61]]\n"
          ]
        }
      ]
    },
    {
      "cell_type": "markdown",
      "source": [],
      "metadata": {
        "id": "i4P7iFKG5clY"
      }
    },
    {
      "cell_type": "code",
      "source": [],
      "metadata": {
        "id": "ExiWfYy4Fg1P"
      },
      "execution_count": null,
      "outputs": []
    }
  ]
}